{
  "nbformat": 4,
  "nbformat_minor": 0,
  "metadata": {
    "colab": {
      "provenance": []
    },
    "kernelspec": {
      "name": "python3",
      "display_name": "Python 3"
    },
    "language_info": {
      "name": "python"
    }
  },
  "cells": [
    {
      "cell_type": "markdown",
      "source": [
        "#Data Types and Structures\n",
        "\n"
      ],
      "metadata": {
        "id": "ZuaHPWCCScTr"
      }
    },
    {
      "cell_type": "markdown",
      "source": [
        "Q1) What are data structures, and why are they important?\n",
        "\n",
        "A1) Data structures are ways to organize and store data so that it can be accessed and manipulated easily. They are important because they help write efficient, fast, and organized code for better data handling and problem-solving."
      ],
      "metadata": {
        "id": "vCPUEJdJS0fC"
      }
    },
    {
      "cell_type": "markdown",
      "source": [
        "Q2) Explain the difference between mutable and immutable data types with examples?\n",
        "\n",
        "A2) *Difference Between Mutable and Immutable Data Types* :\n",
        "\n",
        "* **Mutable data** types can be changed after they are created. You can modify their content without creating a new object. Examples include **list, dict,** and **set**.\n",
        "\n",
        "* **Immutable data** types cannot be changed once they are created. Any modification results in the creation of a new object. Examples include **int, str,** and **tuple**.\n",
        "\n",
        "\n",
        "**Mutable example**\n",
        "\n",
        "a = [1, 2, 3]\n",
        "\n",
        "a[0] = 10\n",
        "\n",
        "print(a)  # Output: [10, 2, 3]\n",
        "\n",
        "**Immutable example**\n",
        "\n",
        "b = \"hello\"\n",
        "\n",
        "b = b + \" world\"\n",
        "\n",
        "print(b)  # Output: \"hello world\"\n"
      ],
      "metadata": {
        "id": "5z_2Q5AKTIQ-"
      }
    },
    {
      "cell_type": "markdown",
      "source": [
        "Q3) What are the main differences between lists and tuples in Python?\n",
        "\n",
        "A3) *Main Differences Between Lists and Tuples:*\n",
        "\n",
        "**Mutability:**\n",
        "\n",
        "* Lists are mutable (you can change, add, or remove items).\n",
        "\n",
        "* Tuples are immutable (you cannot change the items once created).\n",
        "\n",
        "**Syntax:**\n",
        "\n",
        "* Lists use square brackets → [1, 2, 3]\n",
        "\n",
        "* Tuples use parentheses → (1, 2, 3)\n",
        "\n",
        "**Use Case:**\n",
        "\n",
        "* Use lists when you need to change the data.\n",
        "\n",
        "* Use tuples when the data should stay the same.\n",
        "\n",
        "\n"
      ],
      "metadata": {
        "id": "Ztk6BIcATIJQ"
      }
    },
    {
      "cell_type": "markdown",
      "source": [
        "Q4) Describe how dictionaries store data?\n",
        "\n",
        "A4) In Python, a **dictionary** stores data in the form of **key-value pairs**. Each key is unique and used to access its corresponding value. The keys must be **immutable** (like strings, numbers, or tuples), while values can be of any type.\n",
        "\n",
        "Internally, Python dictionaries use a data structure called a **hash table**. When a key is added, Python calculates a hash value for it, which determines where the associated value will be stored in memory. This allows for very **fast data retrieval**, even with large amounts of data.\n",
        "\n"
      ],
      "metadata": {
        "id": "fCqIxbgBTICe"
      }
    },
    {
      "cell_type": "markdown",
      "source": [
        "Q5) Why might you use a set instead of a list in Python?\n",
        "\n",
        "A5) *Use a set instead of a list when:*\n",
        "\n",
        "* You need to store **unique elements only** (no duplicates allowed).\n",
        "\n",
        "* You don't need to maintain order. Sets are unordered collections.\n",
        "\n",
        "* You need to perform set operations like **union, intersection, or difference.**\n",
        "\n",
        "* You want to quickly **remove duplicates** from a list by converting it to a set.\n"
      ],
      "metadata": {
        "id": "RaiGwO61THsJ"
      }
    },
    {
      "cell_type": "markdown",
      "source": [
        "Q6) What is a string in Python, and how is it different from a list?\n",
        "\n",
        "A6) A string is a sequence of characters enclosed in quotes (\"hello\"), while a list is a collection of items (of any type) inside square brackets [\"h\", \"e\", \"l\", \"l\", \"o\"].\n",
        "\n",
        "Key Differences:\n",
        "\n",
        "* Strings are immutable (can't be changed).\n",
        "\n",
        "* Lists are mutable (can be changed).\n",
        "\n",
        "* Strings store only characters; lists can store any data type.\n",
        "\n",
        "* Strings and lists have different methods for manipulation."
      ],
      "metadata": {
        "id": "eBIXp0oHCzUh"
      }
    },
    {
      "cell_type": "markdown",
      "source": [
        "Q7) How do tuples ensure data integrity in Python?\n",
        "\n",
        "A7) Tuples help maintain data integrity in Python due to their unchangeable nature. Here's how:\n",
        "\n",
        "* **Immutable:** Tuples can't be changed after creation, protecting data from accidental changes.\n",
        "\n",
        "* **Reliable for constants:** Ideal for storing fixed values like settings or coordinates.\n",
        "\n",
        "* **Hashable:** Can be used as dictionary keys, ensuring stability.\n",
        "\n",
        "* **Thread-safe:** Safer in multi-threaded programs as data can’t be altered.\n",
        "\n",
        "* **Consistent behavior:** Prevents bugs due to unintentional data modification.\n",
        "\n",
        "\n",
        "\n",
        "\n",
        "\n",
        "\n",
        "\n",
        "\n"
      ],
      "metadata": {
        "id": "xFJjUKSHBqQG"
      }
    },
    {
      "cell_type": "markdown",
      "source": [
        "Q8) What is a hash table, and how does it relate to dictionaries in Python?\n",
        "\n",
        "A8) A **hash table** is a data structure that stores data in the form of **hash function** to determine the index for each key. This allows for fast and efficient data retrieval.\n",
        "\n",
        "In Python, a **dictionary** (*dict*) is a built-in implementation of a hash table. When a value is stored in a dictionary, Python uses a hash function to convert the key into a unique index and stores the value at that position in memory. Because of this, dictionary keys must be **immutable**, such as strings, numbers, or tuples."
      ],
      "metadata": {
        "id": "xgilQZSvDi8m"
      }
    },
    {
      "cell_type": "markdown",
      "source": [
        "Q9) Can lists contain different data types in Python?\n",
        "\n",
        "A9) Yes, lists in Python can contain different data types. A single list can store a mix of integers, strings, floats, booleans, or even other lists and objects. This flexibility makes lists a powerful and commonly used data structure in Python."
      ],
      "metadata": {
        "id": "mI1LYfENKnE2"
      }
    },
    {
      "cell_type": "markdown",
      "source": [
        "Q10) Explain why strings are immutable in Python?\n",
        "\n",
        "A10) Strings are **immutable** in Python, which means their values **cannot be changed** after they are created. This is because strings are stored as a fixed sequence of characters in memory, and changing even one character would require creating a new string.\n",
        "\n"
      ],
      "metadata": {
        "id": "1CaDJMTAM9AC"
      }
    },
    {
      "cell_type": "markdown",
      "source": [
        "Q11) What advantages do dictionaries offer over lists for certain tasks?\n",
        "\n",
        "A11) Dictionaries in Python provide several advantages over lists when dealing with key-value data. Here are the main advantages:\n",
        "\n",
        "* **Unordered but Efficient:**\n",
        "\n",
        " Dictionaries are optimized for storing and retrieving values without needing to worry about order or position.\n",
        "\n",
        "* **Avoiding Duplicates:**\n",
        "\n",
        " Each key in a dictionary is unique, which prevents accidental duplication and maintains data integrity.\n",
        "\n",
        "* **Better for Structured Data:**\n",
        "When data has a clear label or name (like a person's details), dictionaries represent that structure more naturally than lists.\n",
        "\n",
        "* **Fast Lookup:**\n",
        "\n",
        " Dictionaries allow for quick access to data using keys, making them much faster than lists for searching specific elements.\n",
        "\n",
        "* **Key-Based Access:**\n",
        "\n",
        " You can use meaningful keys (like names, IDs) instead of numeric indexes, which makes the code easier to understand and manage.\n",
        "\n"
      ],
      "metadata": {
        "id": "-z8DIq6-4nzg"
      }
    },
    {
      "cell_type": "markdown",
      "source": [
        "Q12) Describe a scenario where using a tuple would be preferable over a list?\n",
        "\n",
        "A12) A tuple is preferable over a list when you want to store a fixed collection of values that should not change throughout the program.\n",
        "\n",
        " *Example Scenario:*\n",
        "\n",
        "Suppose you're storing the coordinates of a location (like latitude and longitude). These values are constant once set and should not be modified.\n",
        "\n",
        "*python code*\n",
        "\n",
        "\n",
        "> `location = (28.6139, 77.2090)`\n",
        "\n",
        " `# Tuple storing coordinates of Delhi`\n",
        "\n",
        "\n",
        "*Why Tuple is Better Here:*\n",
        "\n",
        "**Immutability:** Prevents accidental changes to important constant data.\n",
        "\n",
        "**Performance:** Tuples are faster than lists for fixed-size data.\n",
        "\n",
        "**Hashable:** Tuples can be used as keys in dictionaries or elements in sets (lists cannot).\n",
        "\n",
        "*Conclusion:-*\n",
        "\n",
        "Use a tuple when the data is constant, should not be changed, and might be used as a dictionary key or stored in a set."
      ],
      "metadata": {
        "id": "49xTzIw9ZjLh"
      }
    },
    {
      "cell_type": "markdown",
      "source": [
        "Q13) How do sets handle duplicate values in Python?\n",
        "\n",
        "A13) In Python, sets automatically remove duplicate values. They only store unique elements.\n",
        "\n",
        "*Key Points:*\n",
        "\n",
        "* **Duplicates are not allowed:** If you try to add a duplicate, it will be ignored.\n",
        "\n",
        "* **Only one instance** of each item is kept in the set.\n",
        "\n",
        "* **Unordered**: Sets do not preserve the order of elements.\n",
        "\n",
        "*Conclusion:*\n",
        "\n",
        "Sets are useful when you need to automatically remove duplicates and keep only unique values in a collection."
      ],
      "metadata": {
        "id": "OpnbNefle1SL"
      }
    },
    {
      "cell_type": "markdown",
      "source": [
        " Q14) How does the “in” keyword work differently for lists and dictionaries?\n",
        "\n",
        " A14) The **\"in\"** keyword checks for the presence of a value, but its behavior differs:\n",
        "\n",
        "*  In lists, it checks if a specific element exists in the list.\n",
        "\n",
        "* In dictionaries, it checks if a specific key exists, not the values.\n",
        "\n",
        "*Conclusion:*\n",
        "\n",
        "Use in with lists to check for elements, and with dictionaries to check for keys."
      ],
      "metadata": {
        "id": "SaqZ0LU3g-4y"
      }
    },
    {
      "cell_type": "markdown",
      "source": [
        "Q15) Can you modify the elements of a tuple? Explain why or why not?\n",
        "\n",
        "A15) No, you cannot modify the elements of a tuple because tuples in Python are immutable.\n",
        "\n",
        "*Explanation:*\n",
        "\n",
        "* Once a tuple is created, its elements cannot be changed, added, or removed.\n",
        "\n",
        "* This immutability ensures data integrity and makes tuples safe for constant or fixed data.\n",
        "\n",
        "*Conclusion:*\n",
        "\n",
        "Tuples are designed to hold unchangeable data, which is why their elements cannot be modified after creation."
      ],
      "metadata": {
        "id": "1shiqIbxkhxx"
      }
    },
    {
      "cell_type": "markdown",
      "source": [
        "Q16) What is a nested dictionary, and give an example of its use case?\n",
        "\n",
        "A16) A nested dictionary is a dictionary that contains another dictionary as a value. This structure allows you to store complex, hierarchical data.\n",
        "\n",
        "*Use Case:*\n",
        "\n",
        "Nested dictionaries are useful when you need to represent data with multiple levels — like storing information about students, where each student has their own set of details.\n",
        "\n",
        "*Example:*\n",
        "python\n",
        "\n",
        "\n",
        "```\n",
        "students = {\n",
        "    \"101\": {\"name\": \"Tanya\", \"age\": 22, \"grade\": \"A\"},\n",
        "    \"102\": {\"name\": \"Rahul\", \"age\": 23, \"grade\": \"B\"}\n",
        "}\n",
        "\n",
        "```\n",
        "Here, each student ID maps to another dictionary containing their details.\n",
        "\n",
        "**Conclusion:**\n",
        "\n",
        "Use nested dictionaries to **organize related data under a common key,** especially when each item needs to store multiple values."
      ],
      "metadata": {
        "id": "bkxvwwWIm88K"
      }
    },
    {
      "cell_type": "markdown",
      "source": [
        "Q17) Describe the time complexity of accessing elements in a dictionary ?\n",
        "\n",
        "A17) Accessing elements in a dictionary is usually very fast, it takes **constant time,** or **O(1).**\n",
        "\n",
        "This is because Python dictionaries use something called a **hash table.** When you try to get a value using a key, Python quickly jumps to where that value is stored, without needing to check every item.\n",
        "\n",
        "In simple words, **no matter how big the dictionary is,** it usually takes the same amount of time to find what you're looking for.\n",
        "\n",
        "However, in some rare cases (like when there are too many keys with the same hash), it might take longer but Python is built to handle this efficiently.\n",
        "\n",
        "**So overall,** dictionary lookups are quick and efficient, even with large amounts of data."
      ],
      "metadata": {
        "id": "5sJuGa2Hx7nT"
      }
    },
    {
      "cell_type": "markdown",
      "source": [
        "Q18) In what situations are lists preferred over dictionaries?\n",
        "\n",
        "A18) Lists are preferred over dictionaries in situations where:\n",
        "\n",
        "* **Order matters:**\n",
        "\n",
        " If you need to maintain the order of items, especially for tasks like sorting or iterating in sequence, lists are ideal.\n",
        "\n",
        "* **Data doesn't need labels:**\n",
        "\n",
        " When your data is just a simple collection of items (like numbers or names) without a specific key or label, a list is simpler and more readable.\n",
        "\n",
        "* **Index-based access is required:**\n",
        "\n",
        " If you need to access items by their position (like the first or last item), lists are better suited.\n",
        "\n",
        "* **Duplicates are allowed:**\n",
        "\n",
        "  Lists let you store duplicate values, unlike dictionaries which require unique keys.\n",
        "\n",
        "*Conclusion:*\n",
        "\n",
        "Use lists when you need an ordered, simple collection of items where position and duplicates matter, and there's no need for key-value pairs."
      ],
      "metadata": {
        "id": "T1EYkT7VwvOT"
      }
    },
    {
      "cell_type": "markdown",
      "source": [
        "Q19) Why are dictionaries considered unordered, and how does that affect data retrieval?\n",
        "\n",
        "A19) Dictionaries were traditionally considered **unordered** because they didn't guarantee the order of elements when storing or retrieving data.\n",
        "\n",
        "However, starting from **Python 3.7,** dictionaries **preserve insertion order** meaning items are returned in the order they were added. But this behavior should not be **relied on for logic** unless explicitly needed.\n",
        "\n",
        "#How it affects data retrieval:\n",
        "\n",
        "* **Access is by key, not position:**\n",
        "\n",
        " You can't retrieve items by index like in lists. You must use the key to get the value.\n",
        "\n",
        "* **Order doesn't matter for lookups:**\n",
        "\n",
        " Since retrieval is based on keys, the order of items doesn't affect how fast or how reliably you can access a value.\n",
        "\n",
        "*Conclusion:*\n",
        "\n",
        "Dictionaries focus on **key-based access,** not order. While they now preserve insertion order, it's the **key** that matters for retrieval not the sequence."
      ],
      "metadata": {
        "id": "UnOz-YNWyVz4"
      }
    },
    {
      "cell_type": "markdown",
      "source": [
        "Q20) Explain the difference between a list and a dictionary in terms of data retrieval ?\n",
        "\n",
        "A20) The key difference is in how you retrieve the data -:\n",
        "\n",
        "* In a **list,** you access elements using their index. This means you refer to items by their position in the list, like first, second, or third.\n",
        "\n",
        "* In a **dictionary,** you access elements using keys. Each value is linked to a unique key, so you retrieve data by specifying the key name, not its position.\n",
        "\n",
        "*Conclusion:*\n",
        "Use a list when you need to get items by their order. Use a dictionary when you need to get items by a specific label or key."
      ],
      "metadata": {
        "id": "OakC1SDAA3Sa"
      }
    },
    {
      "cell_type": "markdown",
      "source": [
        "#Practical"
      ],
      "metadata": {
        "id": "4WS_5rf5QOB1"
      }
    },
    {
      "cell_type": "code",
      "source": [
        "#Question 1) Write a code to create a string with your name and print it?\n",
        "\n",
        "name = \"Tanya Arora\"\n",
        "print(\"My name -\", name)"
      ],
      "metadata": {
        "colab": {
          "base_uri": "https://localhost:8080/"
        },
        "id": "C7ZBWoUzQSYH",
        "outputId": "8bfa40bd-1733-426c-b77b-41894c942a79"
      },
      "execution_count": null,
      "outputs": [
        {
          "output_type": "stream",
          "name": "stdout",
          "text": [
            "My name - Tanya Arora\n"
          ]
        }
      ]
    },
    {
      "cell_type": "code",
      "source": [
        "#Question 2) Write a code to find the length of the string \"Hello World\"?\n",
        "\n",
        "string = \"Hello world\"\n",
        "length = len(string)\n",
        "print(\"Length of the string is:\", length)"
      ],
      "metadata": {
        "colab": {
          "base_uri": "https://localhost:8080/"
        },
        "id": "Bu9gG_FeTAZO",
        "outputId": "ad4fffb3-aa62-449f-fa16-b13de6be1434"
      },
      "execution_count": null,
      "outputs": [
        {
          "output_type": "stream",
          "name": "stdout",
          "text": [
            "Length of the string is: 11\n"
          ]
        }
      ]
    },
    {
      "cell_type": "code",
      "source": [
        "#Question 3) Write a code to slice the first 3 characters from the string \"Python Programming\"?\n",
        "\n",
        "string = \"python programming\"\n",
        "sliced = string[:3]\n",
        "print(\"first 3 characters are:\", sliced)\n"
      ],
      "metadata": {
        "colab": {
          "base_uri": "https://localhost:8080/"
        },
        "id": "oRGkYE1PV6c4",
        "outputId": "e89511d5-6dd6-4ac3-98d8-e8c5c0aee682"
      },
      "execution_count": null,
      "outputs": [
        {
          "output_type": "stream",
          "name": "stdout",
          "text": [
            "first 3 characters are: pyt\n"
          ]
        }
      ]
    },
    {
      "cell_type": "code",
      "source": [
        "#Question 4) Write a code to convert the string \"hello\" to uppercase ?\n",
        "\n",
        "string = \"hello\"\n",
        "uppercase = string.upper()\n",
        "print(\"uppercase string is:\", uppercase)"
      ],
      "metadata": {
        "colab": {
          "base_uri": "https://localhost:8080/"
        },
        "id": "J9uMEAAqbgT7",
        "outputId": "1600299b-cb63-46bb-8f01-9c541b86035e"
      },
      "execution_count": null,
      "outputs": [
        {
          "output_type": "stream",
          "name": "stdout",
          "text": [
            "uppercase string is: HELLO\n"
          ]
        }
      ]
    },
    {
      "cell_type": "code",
      "source": [
        "#Question 5) Write a code to replace the word \"apple\" with \"orange\" in the string \"I like apple\"?\n",
        "\n",
        "string = \"I like apple\"\n",
        "new_string = string.replace(\"apple\", \"orange\")\n",
        "print(\"Updated string is:\",new_string)\n"
      ],
      "metadata": {
        "colab": {
          "base_uri": "https://localhost:8080/"
        },
        "id": "y2oaXeEmcytS",
        "outputId": "0b5c8606-d6eb-44cb-ce27-4351e401ba2f"
      },
      "execution_count": null,
      "outputs": [
        {
          "output_type": "stream",
          "name": "stdout",
          "text": [
            "Updated string is: I like orange\n"
          ]
        }
      ]
    },
    {
      "cell_type": "code",
      "source": [
        "#Question 6) Write a code to create a list with numbers 1 to 5 and print it?\n",
        "\n",
        "My_list = [1,2,3,4,5]\n",
        "print(\"List is:\", My_list)"
      ],
      "metadata": {
        "colab": {
          "base_uri": "https://localhost:8080/"
        },
        "id": "N2Hlx0f8eXTb",
        "outputId": "70a0d489-392e-47f4-e6c5-dfd25b0aa420"
      },
      "execution_count": null,
      "outputs": [
        {
          "output_type": "stream",
          "name": "stdout",
          "text": [
            "List is: [1, 2, 3, 4, 5]\n"
          ]
        }
      ]
    },
    {
      "cell_type": "code",
      "source": [
        "#Question 7) Write a code to append the number 10 to the list [1, 2, 3, 4]?\n",
        "\n",
        "My_list = [1,2,3,4]\n",
        "My_list.append(10)\n",
        "print(\"Updated list is:\", My_list)\n"
      ],
      "metadata": {
        "colab": {
          "base_uri": "https://localhost:8080/"
        },
        "id": "oyLVc5qcgRRo",
        "outputId": "fba74845-e75e-48a0-9897-54deac325d14"
      },
      "execution_count": null,
      "outputs": [
        {
          "output_type": "stream",
          "name": "stdout",
          "text": [
            "Updated list is: [1, 2, 3, 4, 10]\n"
          ]
        }
      ]
    },
    {
      "cell_type": "code",
      "source": [
        "#Question 8) Write a code to remove the number 3 from the list [1, 2, 3, 4, 5]?\n",
        "\n",
        "My_list = [1,2,3,4,5]\n",
        "My_list.remove(3)\n",
        "print(\"Updated list is:\", My_list)\n"
      ],
      "metadata": {
        "colab": {
          "base_uri": "https://localhost:8080/"
        },
        "id": "KUd3b7KrhHfR",
        "outputId": "da8940a5-3411-4848-9145-034d8de01bb9"
      },
      "execution_count": null,
      "outputs": [
        {
          "output_type": "stream",
          "name": "stdout",
          "text": [
            "Updated list is: [1, 2, 4, 5]\n"
          ]
        }
      ]
    },
    {
      "cell_type": "code",
      "source": [
        "#Question 9) Write a code to access the second element in the list ['a', 'b', 'c', 'd']?\n",
        "\n",
        "letters = ['a','b','c','d']\n",
        "print(\"Second element is:\", letters[1])\n"
      ],
      "metadata": {
        "colab": {
          "base_uri": "https://localhost:8080/"
        },
        "id": "JPQxPRi4iu-C",
        "outputId": "62bdbc41-f720-4467-8489-877f4affd150"
      },
      "execution_count": null,
      "outputs": [
        {
          "output_type": "stream",
          "name": "stdout",
          "text": [
            "Second element is: b\n"
          ]
        }
      ]
    },
    {
      "cell_type": "code",
      "source": [
        "#Question 10) Write a code to reverse the list [10, 20, 30, 40, 50]?\n",
        "\n",
        "My_list = [10,20,30,40,50]\n",
        "My_list.reverse()\n",
        "print(\"Reversed list is:\", My_list)"
      ],
      "metadata": {
        "colab": {
          "base_uri": "https://localhost:8080/"
        },
        "id": "dbcMgUCdkoXo",
        "outputId": "abb0afb8-dda4-40d1-f747-e48652d6da5a"
      },
      "execution_count": null,
      "outputs": [
        {
          "output_type": "stream",
          "name": "stdout",
          "text": [
            "Reversed list is: [50, 40, 30, 20, 10]\n"
          ]
        }
      ]
    },
    {
      "cell_type": "code",
      "source": [
        "#Question 11) Write a code to create a tuple with the elements 100, 200, 300 and print it?\n",
        "\n",
        "My_tuple = (100,200,300)\n",
        "print(\"Tuple is:\", My_tuple)"
      ],
      "metadata": {
        "colab": {
          "base_uri": "https://localhost:8080/"
        },
        "id": "TRqanZLTl3O1",
        "outputId": "485ccaca-386d-48cf-a831-139eb38c19b3"
      },
      "execution_count": null,
      "outputs": [
        {
          "output_type": "stream",
          "name": "stdout",
          "text": [
            "Tuple is: (100, 200, 300)\n"
          ]
        }
      ]
    },
    {
      "cell_type": "code",
      "source": [
        "#Question 12) Write a code to access the second-to-last element of the tuple ('red', 'green', 'blue', 'yellow') ?\n",
        "\n",
        "colors = ('red', 'green', 'blue', 'yellow')\n",
        "print(\"Second to last element is:\", colors[-2])\n"
      ],
      "metadata": {
        "colab": {
          "base_uri": "https://localhost:8080/"
        },
        "id": "2h2pAlnlnA2F",
        "outputId": "f6545a76-8972-4355-e46f-8f18a9b7a164"
      },
      "execution_count": null,
      "outputs": [
        {
          "output_type": "stream",
          "name": "stdout",
          "text": [
            "Second to last element is: blue\n"
          ]
        }
      ]
    },
    {
      "cell_type": "code",
      "source": [
        "#Question 13) Write a code to find the minimum number in the tuple (10, 20, 5, 15) ?\n",
        "\n",
        "My_tuple = (10,20,5,15)\n",
        "print(\"Minimum number is :\" , min(My_tuple))"
      ],
      "metadata": {
        "colab": {
          "base_uri": "https://localhost:8080/"
        },
        "id": "oajsDujaodWG",
        "outputId": "2eb29a63-d0a8-4d35-a1d1-51460a571993"
      },
      "execution_count": null,
      "outputs": [
        {
          "output_type": "stream",
          "name": "stdout",
          "text": [
            "Minimum number is : 5\n"
          ]
        }
      ]
    },
    {
      "cell_type": "code",
      "source": [
        "#Question 14)  Write a code to find the index of the element \"cat\" in the tuple ('dog', 'cat', 'rabbit')?\n",
        "\n",
        "animals = ('dog', 'cat', 'rabbit')\n",
        "print(\"Index of cat is:\", animals.index('cat'))\n"
      ],
      "metadata": {
        "colab": {
          "base_uri": "https://localhost:8080/"
        },
        "id": "Tui63TXvpzWc",
        "outputId": "cf5e98ba-7b80-4ec9-e716-0b5f621a4849"
      },
      "execution_count": null,
      "outputs": [
        {
          "output_type": "stream",
          "name": "stdout",
          "text": [
            "Index of cat is: 1\n"
          ]
        }
      ]
    },
    {
      "cell_type": "code",
      "source": [
        "#Question 15) Write a code to create a tuple containing three different fruits and check if \"kiwi\" is in it?\n",
        "\n",
        "fruits = ( \"apple\",\"banana\",\"mango\" )\n",
        "\n",
        "if \"kiwi\" in fruits:\n",
        "  print(\"kiwi is in the tuple\")\n",
        "else:\n",
        "  print(\"kiwi is not in the tuple\")\n"
      ],
      "metadata": {
        "colab": {
          "base_uri": "https://localhost:8080/"
        },
        "id": "S96JnfKqr4ER",
        "outputId": "ea2fb503-2d6e-46ea-8694-7e4427a700f1"
      },
      "execution_count": null,
      "outputs": [
        {
          "output_type": "stream",
          "name": "stdout",
          "text": [
            "kiwi is not in the tuple\n"
          ]
        }
      ]
    },
    {
      "cell_type": "code",
      "source": [
        "#Question 16) Write a code to create a set with the elements 'a', 'b', 'c' and print it?\n",
        "\n",
        "my_set = {'a', 'b', 'c'}\n",
        "print(\"Set is:\", my_set)"
      ],
      "metadata": {
        "colab": {
          "base_uri": "https://localhost:8080/"
        },
        "id": "8AS1QzQOway0",
        "outputId": "51147d20-9ed5-4d2c-ecc5-94beb76293a2"
      },
      "execution_count": null,
      "outputs": [
        {
          "output_type": "stream",
          "name": "stdout",
          "text": [
            "Set is: {'b', 'a', 'c'}\n"
          ]
        }
      ]
    },
    {
      "cell_type": "code",
      "source": [
        "#Question 17) Write a code to clear all elements from the set {1, 2, 3, 4, 5}?\n",
        "\n",
        "my_set = {1,2,3,4,5}\n",
        "my_set.clear()\n",
        "print(\"Set after clearing:\", my_set)\n"
      ],
      "metadata": {
        "colab": {
          "base_uri": "https://localhost:8080/"
        },
        "id": "K41mHHKwwubL",
        "outputId": "72de7552-c53e-4703-dc7f-ce23870408da"
      },
      "execution_count": null,
      "outputs": [
        {
          "output_type": "stream",
          "name": "stdout",
          "text": [
            "Set after clearing: set()\n"
          ]
        }
      ]
    },
    {
      "cell_type": "code",
      "source": [
        "#Question 18) Write a code to remove the element 4 from the set {1, 2, 3, 4}?\n",
        "\n",
        "my_set = {1,2,3,4}\n",
        "my_set.remove(4)\n",
        "print(\"Set after removing 4:\", my_set)\n"
      ],
      "metadata": {
        "colab": {
          "base_uri": "https://localhost:8080/"
        },
        "id": "hNpynDcl_6D0",
        "outputId": "cfbcab51-2e87-466f-bd95-ee923cfa0b99"
      },
      "execution_count": null,
      "outputs": [
        {
          "output_type": "stream",
          "name": "stdout",
          "text": [
            "Set after removing 4: {1, 2, 3}\n"
          ]
        }
      ]
    },
    {
      "cell_type": "code",
      "source": [
        "#Question 19)  Write a code to find the union of two sets {1, 2, 3} and {3, 4, 5}?\n",
        "\n",
        "set1 = {1,2,3}\n",
        "set2 = {3,4,5}\n",
        "print(\"Union of the set is:\", set1.union(set2))"
      ],
      "metadata": {
        "colab": {
          "base_uri": "https://localhost:8080/"
        },
        "id": "kBH_IdHwBXTI",
        "outputId": "f8c8df74-2568-4c2f-97d6-4aaa2a1942b4"
      },
      "execution_count": null,
      "outputs": [
        {
          "output_type": "stream",
          "name": "stdout",
          "text": [
            "Union of the set is: {1, 2, 3, 4, 5}\n"
          ]
        }
      ]
    },
    {
      "cell_type": "code",
      "source": [
        "#Question 20) Write a code to find the intersection of two sets {1, 2, 3} and {2, 3, 4}?\n",
        "\n",
        "set1 = {1,2,3}\n",
        "set2 = {2,3,4}\n",
        "print(\"Intersection of two set is :\", set1.intersection(set2))"
      ],
      "metadata": {
        "colab": {
          "base_uri": "https://localhost:8080/"
        },
        "id": "aDakI0vAB_JV",
        "outputId": "a0995360-ad95-461c-9223-f4acf1dc6ae5"
      },
      "execution_count": null,
      "outputs": [
        {
          "output_type": "stream",
          "name": "stdout",
          "text": [
            "Intersection of two set is : {2, 3}\n"
          ]
        }
      ]
    },
    {
      "cell_type": "code",
      "source": [
        "#Question 21)  Write a code to create a dictionary with the keys \"name\", \"age\", and \"city\", and print it?\n",
        "\n",
        "my_dict = {\n",
        "    \"name\" : \"Tanya\",\n",
        "    \"age\" : 22,\n",
        "    \"city\" : \"Jaipur\"\n",
        "}\n",
        "print(\"Dictionary is \", my_dict)\n"
      ],
      "metadata": {
        "colab": {
          "base_uri": "https://localhost:8080/"
        },
        "id": "ep2eaDGvCtiH",
        "outputId": "7693c5c9-3cbe-466a-955a-7f921d9e0608"
      },
      "execution_count": null,
      "outputs": [
        {
          "output_type": "stream",
          "name": "stdout",
          "text": [
            "Dictionary is  {'name': 'Tanya', 'age': 22, 'city': 'Jaipur'}\n"
          ]
        }
      ]
    },
    {
      "cell_type": "code",
      "source": [
        "#Question 22)  Write a code to add a new key-value pair \"country\": \"USA\" to the dictionary {'name': 'John', 'age': 25}?\n",
        "\n",
        "my_dict = {'name': 'john', 'age': 25}\n",
        "my_dict['country']= 'UAE'\n",
        "print(\"Updated dictionary:\", my_dict)\n"
      ],
      "metadata": {
        "id": "_GAnBxskGU3a",
        "colab": {
          "base_uri": "https://localhost:8080/"
        },
        "outputId": "942a1161-5bdc-4ed2-d5e6-bd82e581a482"
      },
      "execution_count": null,
      "outputs": [
        {
          "output_type": "stream",
          "name": "stdout",
          "text": [
            "Updated dictionary: {'name': 'john', 'age': 25, 'country': 'UAE'}\n"
          ]
        }
      ]
    },
    {
      "cell_type": "code",
      "source": [
        "#Question 23)  Write a code to access the value associated with the key \"name\" in the dictionary {'name': 'Alice', 'age': 30}?\n",
        "\n",
        "my_dict = {'name': 'Alice', 'age': 30}\n",
        "print(\"value associated with key 'name' is:\", my_dict['name'])\n",
        "\n"
      ],
      "metadata": {
        "colab": {
          "base_uri": "https://localhost:8080/"
        },
        "id": "H78iMKVUMHhQ",
        "outputId": "2daf7934-5860-49b8-821e-23dd0eeff828"
      },
      "execution_count": null,
      "outputs": [
        {
          "output_type": "stream",
          "name": "stdout",
          "text": [
            "value associated with key 'name' is: Alice\n"
          ]
        }
      ]
    },
    {
      "cell_type": "code",
      "source": [
        "#Question 24) Write a code to remove the key \"age\" from the dictionary {'name': 'Bob', 'age': 22, 'city': 'New York'}?\n",
        "\n",
        "my_dict = {'name': 'Bob', 'age': 22, 'city': 'New york'}\n",
        "del my_dict['age']\n",
        "print(\"Updated dictionary is:\", my_dict)"
      ],
      "metadata": {
        "colab": {
          "base_uri": "https://localhost:8080/"
        },
        "id": "_BrtzGkFTF3r",
        "outputId": "77c928bc-cdab-459f-f106-3e820b3573fd"
      },
      "execution_count": null,
      "outputs": [
        {
          "output_type": "stream",
          "name": "stdout",
          "text": [
            "Updated dictionary is: {'name': 'Bob', 'city': 'New york'}\n"
          ]
        }
      ]
    },
    {
      "cell_type": "code",
      "source": [
        "#Question 25)  Write a code to check if the key \"city\" exists in the dictionary {'name': 'Alice', 'city': 'Paris'} ?\n",
        "\n",
        "my_dict = {'name': 'Alice', 'city': 'Paris'}\n",
        "if 'city' in my_dict:\n",
        "  print(\"key 'city' exists in the dictionary.\")\n",
        "else:\n",
        "  print(\"key 'city' dose not exist in the dictionary\")\n"
      ],
      "metadata": {
        "colab": {
          "base_uri": "https://localhost:8080/"
        },
        "id": "PTqGFrElXf6v",
        "outputId": "63c7793f-d0a4-43b4-96e8-2fd47b10c45a"
      },
      "execution_count": null,
      "outputs": [
        {
          "output_type": "stream",
          "name": "stdout",
          "text": [
            "key 'city' exists in the dictionary.\n"
          ]
        }
      ]
    },
    {
      "cell_type": "code",
      "source": [
        "#Question 26) Write a code to create a list, a tuple, and a dictionary, and print them all ?\n",
        "\n",
        "#list\n",
        "my_list = [1,2,3,4,5]\n",
        "print(\"List is:\", my_list)\n",
        "\n",
        "my_tuple = ('apple', 'banana', 'cherry')\n",
        "print(\"Tuple is:\", my_tuple)\n",
        "\n",
        "my_dict = {\n",
        "    \"name\" : \"Tanya\",\n",
        "    \"age\" : 22,\n",
        "    \"city\" : \"Jaipur\"\n",
        "}\n",
        "\n",
        "print(\"Dictonary is:\", my_dict)\n"
      ],
      "metadata": {
        "colab": {
          "base_uri": "https://localhost:8080/"
        },
        "id": "a5b22BVrg7ts",
        "outputId": "e80be69d-4d9f-43e6-e2b9-3fa1459fd5e2"
      },
      "execution_count": null,
      "outputs": [
        {
          "output_type": "stream",
          "name": "stdout",
          "text": [
            "List is: [1, 2, 3, 4, 5]\n",
            "Tuple is: ('apple', 'banana', 'cherry')\n",
            "Dictonary is: {'name': 'Tanya', 'age': 22, 'city': 'Jaipur'}\n"
          ]
        }
      ]
    },
    {
      "cell_type": "code",
      "source": [
        "#Question 27) Write a code to create a list of 5 random numbers between 1 and 100, sort it in ascending order, and print the result.(replaced) ?\n",
        "\n",
        "import random\n",
        "\n",
        "my_list = [random.randint(1,100) for _ in range(5)]\n",
        "my_list.sort()\n",
        "print(\"Sorted list of random numbers:\", my_list)\n"
      ],
      "metadata": {
        "colab": {
          "base_uri": "https://localhost:8080/"
        },
        "id": "YDIWvL9MkHyO",
        "outputId": "caf25a3f-269e-4d8f-c56d-7005b32d427b"
      },
      "execution_count": null,
      "outputs": [
        {
          "output_type": "stream",
          "name": "stdout",
          "text": [
            "Sorted list of random numbers: [41, 63, 85, 94, 97]\n"
          ]
        }
      ]
    },
    {
      "cell_type": "code",
      "source": [
        "#Question 28) Write a code to create a list with strings and print the element at the third index ?\n",
        "\n",
        "my_list=[\"apple\", \"banana\", \"cherry\", \"date\",\"elderberry\"]\n",
        "print(\"Element at index 3 is:\", my_list[3])"
      ],
      "metadata": {
        "colab": {
          "base_uri": "https://localhost:8080/"
        },
        "id": "5GnDdWIoo8P-",
        "outputId": "4050a795-0df3-4329-df09-57b7219f04dd"
      },
      "execution_count": null,
      "outputs": [
        {
          "output_type": "stream",
          "name": "stdout",
          "text": [
            "Element at index 3 is: date\n"
          ]
        }
      ]
    },
    {
      "cell_type": "code",
      "source": [
        "#Question 29) Write a code to combine two dictionaries into one and print the result ?\n",
        "\n",
        "dict1 = {'a': 1, 'b': 2}\n",
        "dict2 = {'c': 3, 'd': 4}\n",
        "combined = {**dict1, **dict2}\n",
        "print(\"combined dictionary:\", combined)\n"
      ],
      "metadata": {
        "colab": {
          "base_uri": "https://localhost:8080/"
        },
        "id": "OJm9rPSyq_dV",
        "outputId": "d5707d4c-3f4d-4d35-dc10-013c40a84e0d"
      },
      "execution_count": null,
      "outputs": [
        {
          "output_type": "stream",
          "name": "stdout",
          "text": [
            "combined dictionary: {'a': 1, 'b': 2, 'c': 3, 'd': 4}\n"
          ]
        }
      ]
    },
    {
      "cell_type": "code",
      "source": [
        "#Question 30) Write a code to convert a list of strings into a set ?\n",
        "\n",
        "my_list = ['Apple' , 'banana', 'cherry', 'date']\n",
        "my_set = set(my_list)\n",
        "print(\"set is :\", my_set)\n",
        "\n"
      ],
      "metadata": {
        "colab": {
          "base_uri": "https://localhost:8080/"
        },
        "id": "NQh8xIcFtyRY",
        "outputId": "a0ab8341-b249-4bf9-b175-c96632429c30"
      },
      "execution_count": null,
      "outputs": [
        {
          "output_type": "stream",
          "name": "stdout",
          "text": [
            "set is : {'Apple', 'banana', 'cherry', 'date'}\n"
          ]
        }
      ]
    }
  ]
}